{
 "cells": [
  {
   "cell_type": "markdown",
   "metadata": {},
   "source": [
    "# Open Data Spatial Visualization"
   ]
  },
  {
   "cell_type": "code",
   "execution_count": 1,
   "metadata": {},
   "outputs": [],
   "source": [
    "import pandas as pd\n",
    "import numpy as np\n",
    "import requests\n",
    "%matplotlib inline\n",
    "import matplotlib.pyplot as plt\n",
    "import seaborn as sns"
   ]
  },
  {
   "cell_type": "markdown",
   "metadata": {},
   "source": [
    "## Fetch Data"
   ]
  },
  {
   "cell_type": "code",
   "execution_count": 55,
   "metadata": {},
   "outputs": [],
   "source": [
    "CRASH_DATA_URL = \"https://data.cityofchicago.org/resource/85ca-t3if.json\"\n",
    "FACTOR_A = \"Injuries\"\n",
    "FACTOR_B = \"Rainy Weather\""
   ]
  },
  {
   "cell_type": "code",
   "execution_count": 56,
   "metadata": {},
   "outputs": [],
   "source": [
    "query = \"\"\"\n",
    "SELECT\n",
    "    COUNT(*) AS n,\n",
    "    SUM(CASE(weather_condition == \"RAIN\" AND injuries_total >= 1, 1, TRUE, 0)) AS a,\n",
    "    SUM(CASE(weather_condition == \"RAIN\" AND injuries_total == 0, 1, TRUE, 0)) AS b,\n",
    "    SUM(CASE(weather_condition != \"RAIN\" AND injuries_total >= 1, 1, TRUE, 0)) AS c,\n",
    "    SUM(CASE(weather_condition != \"RAIN\" AND injuries_total == 0, 1, TRUE, 0)) AS d,\n",
    "    (a / (a + b)) / (c / (c + d)) AS rr\n",
    "WHERE date_extract_y(crash_date) >= 2015\n",
    "\"\"\""
   ]
  },
  {
   "cell_type": "code",
   "execution_count": 57,
   "metadata": {},
   "outputs": [
    {
     "name": "stdout",
     "output_type": "stream",
     "text": [
      "Querying dataset...\n",
      "Fetched result.\n"
     ]
    },
    {
     "data": {
      "text/html": [
       "<div>\n",
       "<style scoped>\n",
       "    .dataframe tbody tr th:only-of-type {\n",
       "        vertical-align: middle;\n",
       "    }\n",
       "\n",
       "    .dataframe tbody tr th {\n",
       "        vertical-align: top;\n",
       "    }\n",
       "\n",
       "    .dataframe thead th {\n",
       "        text-align: right;\n",
       "    }\n",
       "</style>\n",
       "<table border=\"1\" class=\"dataframe\">\n",
       "  <thead>\n",
       "    <tr style=\"text-align: right;\">\n",
       "      <th></th>\n",
       "      <th>a</th>\n",
       "      <th>b</th>\n",
       "      <th>c</th>\n",
       "      <th>d</th>\n",
       "      <th>n</th>\n",
       "      <th>rr</th>\n",
       "    </tr>\n",
       "  </thead>\n",
       "  <tbody>\n",
       "    <tr>\n",
       "      <th>0</th>\n",
       "      <td>3706</td>\n",
       "      <td>22086</td>\n",
       "      <td>28981</td>\n",
       "      <td>230210</td>\n",
       "      <td>286125</td>\n",
       "      <td>1.28507047389138241763</td>\n",
       "    </tr>\n",
       "  </tbody>\n",
       "</table>\n",
       "</div>"
      ],
      "text/plain": [
       "      a      b      c       d       n                      rr\n",
       "0  3706  22086  28981  230210  286125  1.28507047389138241763"
      ]
     },
     "execution_count": 57,
     "metadata": {},
     "output_type": "execute_result"
    }
   ],
   "source": [
    "print(\"Querying dataset...\")\n",
    "r = requests.get(CRASH_DATA_URL, params={\"$query\": query})\n",
    "rows = r.json()\n",
    "res = rows[0]\n",
    "print(\"Fetched result.\")\n",
    "pd.DataFrame(rows)"
   ]
  },
  {
   "cell_type": "code",
   "execution_count": 58,
   "metadata": {},
   "outputs": [
    {
     "data": {
      "image/png": "[encoded data removed]",
      "text/plain": [
       "<matplotlib.figure.Figure at 0x114919eb8>"
      ]
     },
     "metadata": {
      "needs_background": "light"
     },
     "output_type": "display_data"
    }
   ],
   "source": [
    "a = int(res[\"a\"])\n",
    "b = int(res[\"b\"])\n",
    "c = int(res[\"c\"])\n",
    "d = int(res[\"d\"])\n",
    "n = int(res[\"n\"])\n",
    "rr = float(res[\"rr\"])\n",
    "sns.heatmap(\n",
    "    [[a, b], [c, d]],\n",
    "    xticklabels=[\"Yes\", \"No\"],\n",
    "    yticklabels=[\"Yes\", \"No\"],\n",
    "    annot=True, fmt=\"d\", cmap=\"YlGnBu\"\n",
    ")\n",
    "plt.xlabel(FACTOR_A)\n",
    "plt.ylabel(FACTOR_B)\n",
    "plt.title(\"Relative Risk = {0:.1f}\".format(rr))\n",
    "plt.show()"
   ]
  }
 ],
 "metadata": {
  "kernelspec": {
   "display_name": "Python 3",
   "language": "python",
   "name": "python3"
  },
  "language_info": {
   "codemirror_mode": {
    "name": "ipython",
    "version": 3
   },
   "file_extension": ".py",
   "mimetype": "text/x-python",
   "name": "python",
   "nbconvert_exporter": "python",
   "pygments_lexer": "ipython3",
   "version": "3.6.1"
  },
  "varInspector": {
   "cols": {
    "lenName": 16,
    "lenType": 16,
    "lenVar": 40
   },
   "kernels_config": {
    "python": {
     "delete_cmd_postfix": "",
     "delete_cmd_prefix": "del ",
     "library": "var_list.py",
     "varRefreshCmd": "print(var_dic_list())"
    },
    "r": {
     "delete_cmd_postfix": ") ",
     "delete_cmd_prefix": "rm(",
     "library": "var_list.r",
     "varRefreshCmd": "cat(var_dic_list()) "
    }
   },
   "types_to_exclude": [
    "module",
    "function",
    "builtin_function_or_method",
    "instance",
    "_Feature"
   ],
   "window_display": false
  }
 },
 "nbformat": 4,
 "nbformat_minor": 2
}
